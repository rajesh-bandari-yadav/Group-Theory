{
 "cells": [
  {
   "cell_type": "markdown",
   "metadata": {
    "toc": true
   },
   "source": [
    "<h1>Table of Contents<span class=\"tocSkip\"></span></h1>\n",
    "<div class=\"toc\"><ul class=\"toc-item\"><li><span><a href=\"#Group\" data-toc-modified-id=\"Group-1\"><span class=\"toc-item-num\">1&nbsp;&nbsp;</span>Group</a></span><ul class=\"toc-item\"><li><span><a href=\"#Definition\" data-toc-modified-id=\"Definition-1.1\"><span class=\"toc-item-num\">1.1&nbsp;&nbsp;</span>Definition</a></span></li><li><span><a href=\"#Addition-Modular\" data-toc-modified-id=\"Addition-Modular-1.2\"><span class=\"toc-item-num\">1.2&nbsp;&nbsp;</span>Addition Modular</a></span></li><li><span><a href=\"#Multiplication-Module\" data-toc-modified-id=\"Multiplication-Module-1.3\"><span class=\"toc-item-num\">1.3&nbsp;&nbsp;</span>Multiplication Module</a></span></li><li><span><a href=\"#Unit-Group\" data-toc-modified-id=\"Unit-Group-1.4\"><span class=\"toc-item-num\">1.4&nbsp;&nbsp;</span>Unit Group</a></span><ul class=\"toc-item\"><li><span><a href=\"#Greatest-common-factor-(GCD)\" data-toc-modified-id=\"Greatest-common-factor-(GCD)-1.4.1\"><span class=\"toc-item-num\">1.4.1&nbsp;&nbsp;</span>Greatest common factor (GCD)</a></span></li><li><span><a href=\"#Creating--Function-for-compute-GCD-\" data-toc-modified-id=\"Creating--Function-for-compute-GCD--1.4.2\"><span class=\"toc-item-num\">1.4.2&nbsp;&nbsp;</span>Creating  Function for compute GCD </a></span></li><li><span><a href=\"#-Definition-(Unit-Group)\" data-toc-modified-id=\"-Definition-(Unit-Group)-1.4.3\"><span class=\"toc-item-num\">1.4.3&nbsp;&nbsp;</span> Definition (Unit Group)</a></span></li></ul></li></ul></li></ul></div>"
   ]
  },
  {
   "cell_type": "markdown",
   "metadata": {},
   "source": [
    "<html>\n",
    "<body>\n",
    "\n",
    "<article>\n",
    "  <header>\n",
    "    <h1>Abstract Algebra with Python<span class=\"tocSkip\"></span></h1>\n",
    "    <h3>Written by Rajesh Bandari Yadav<span class=\"tocSkip\"></h3>\n",
    "    \n",
    "</article>\n",
    "\n",
    "</body>\n",
    "</html>\n"
   ]
  },
  {
   "cell_type": "markdown",
   "metadata": {},
   "source": [
    "<h1>Group</h1>"
   ]
  },
  {
   "cell_type": "markdown",
   "metadata": {},
   "source": [
    "<h2>Definition</h2> <br>\n",
    "If $G$ is a nonempty set and $a$ is a binary operation on $G$, then $(G, \\square)$ is called a group if the following conditions are satisfied.<br>\n",
    "।. For all $a, b \\in G, a \\square b \\in G$ (Closure of under $\\square$ ) <br>\n",
    "2. For all $a, b, c \\in G,(a \\square b) \\square c=a \\square(b \\square c)$.\n",
    "(Associative)<br>\n",
    "3. There exists $e \\in G$ with $e\\square a=a\\square e$ for all $a \\in G$. (Existence of an Identity) <br>\n",
    "4. For each $a \\in G$, there is an elements $a^{\\prime} \\in G$ such that $a^{\\prime} \\square a=a\\square a^{\\prime} a=e$."
   ]
  },
  {
   "cell_type": "markdown",
   "metadata": {},
   "source": [
    "<h2>Addition Modular</h2>"
   ]
  },
  {
   "cell_type": "markdown",
   "metadata": {},
   "source": [
    "Example: $\\mathbb{Z}_{4}=\\{0,1,2,3\\}$ is a group w.r.to $+_{4}$ <br>\n",
    "\n",
    "<b>Indetity</b>: 0 <br> \n",
    "\n",
    "<b>Inverse of $a=4-a(mod 4) \\forall a \\in \\mathbb{Z}_{4}$</b><br> <br>\n"
   ]
  },
  {
   "cell_type": "markdown",
   "metadata": {},
   "source": []
  },
  {
   "cell_type": "markdown",
   "metadata": {},
   "source": []
  },
  {
   "cell_type": "code",
   "execution_count": 199,
   "metadata": {},
   "outputs": [
    {
     "name": "stdout",
     "output_type": "stream",
     "text": [
      "Calay's Table for (Z4,+4)\n",
      "\n",
      "+4|   0   1   2   3\n",
      "---------------------\n",
      "0 |   0   1   2   3\n",
      "1 |   1   2   3   0\n",
      "2 |   2   3   0   1\n",
      "3 |   3   0   1   2\n"
     ]
    }
   ],
   "source": [
    "print(\"Calay's Table for (Z4,+4)\")\n",
    "print()\n",
    "print(\"+4|\",end='')\n",
    "for j in range (4):\n",
    "    print(format(j,\"4d\"),end='')\n",
    "print()    \n",
    "print(\"---------------------\")\n",
    "\n",
    "\n",
    "for i in range(4):\n",
    "    print(i,\"|\",end='')\n",
    "    for j in range(4):\n",
    "        a=(i+j)%4\n",
    "        print(format(a,\"4d\"),end='')\n",
    "    print()\n",
    "        \n",
    "        \n"
   ]
  },
  {
   "cell_type": "markdown",
   "metadata": {},
   "source": [
    "<h2>Multiplication Module</h2>"
   ]
  },
  {
   "cell_type": "markdown",
   "metadata": {},
   "source": [
    "<b>Example</b>:$\\mathbb{Z}_{5}-\\{0\\}=\\{1,2,3,4\\}$ is a group w.r.to $\\times_{5}$\n",
    "<b>Indetity</b>: 1 <br> \n",
    "\n",
    "<b>Inverse</b> <br>\n",
    "inverse of $1$ is $1$ <br>\n",
    "inverse of $2$ is $3$ <br>\n",
    "inverse of $3$ is $2$ <br>\n",
    "inverse of $4$ is $4$ <br>\n"
   ]
  },
  {
   "cell_type": "code",
   "execution_count": 198,
   "metadata": {},
   "outputs": [
    {
     "name": "stdout",
     "output_type": "stream",
     "text": [
      "Calay's Table for (Z5-{0},+5)\n",
      "\n",
      "x5|   1   2   3   4\n",
      "---------------------\n",
      "1 |   1   2   3   4\n",
      "2 |   2   4   1   3\n",
      "3 |   3   1   4   2\n",
      "4 |   4   3   2   1\n"
     ]
    }
   ],
   "source": [
    "print(\"Calay's Table for (Z5-{0},+5)\")\n",
    "print()\n",
    "print(\"x5|\",end='')\n",
    "for j in range (1,5):\n",
    "    print(format(j,\"4d\"),end='')\n",
    "print()    \n",
    "print(\"---------------------\")\n",
    "\n",
    "\n",
    "for i in range(1,5):\n",
    "    print(i,\"|\",end='')\n",
    "    for j in range(1,5):\n",
    "        a=(i*j)%5\n",
    "        print(format(a,\"4d\"),end='')\n",
    "    print()"
   ]
  },
  {
   "cell_type": "markdown",
   "metadata": {},
   "source": [
    "<h2>Unit Group</h2>"
   ]
  },
  {
   "cell_type": "markdown",
   "metadata": {},
   "source": [
    "<h3>Greatest common factor (GCD)</h3>"
   ]
  },
  {
   "cell_type": "markdown",
   "metadata": {},
   "source": [
    "Definition: The greatest common divisor of two nonzero integers a and $b, g c d(a, b)$, is the largest integer that divides both, except that $\\operatorname{gcd}(0,0)=0$.<br>\n",
    "The exception is there because every number divides zero, and so we specially define $\\operatorname{gcd}(0,0)=0$ to be a convenient value."
   ]
  },
  {
   "cell_type": "markdown",
   "metadata": {},
   "source": [
    "<b>Properties of Greatest common divisor:</b> <br>\n",
    "1.$\\operatorname{gcd}(a, b)=\\operatorname{gcd}(b, a)$.<br>\n",
    "2. $\\operatorname{gcd}(a, b)=\\operatorname{gcd}(|a|,|b|)$.<br>\n",
    "3.<b>Example:</b>\n",
    "$\\operatorname{gcd}(-12,-14)=g c d(-12,14)=g c d(12,-14)=g c d(12,14)$ <br>\n",
    "\n",
    "4.If $a \\neq 0$ or $b \\neq 0$, then $\\operatorname{gcd}(a, b)$ exists and satisfies $0<\\operatorname{gcd}(a, b) \\leq \\min \\{|a|,|b|\\}$.<br>\n",
    "5.If $\\mathrm{a}>0$ then $\\operatorname{gcd}(\\mathrm{a}, 0)=\\mathrm{a}$.<br>\n",
    "6.gcd of $n$ numbers $a_{1}, a_{2}, a_{3}, a_{4}, \\ldots \\ldots \\ldots . a_{n}$.<br>\n",
    "7.$\\operatorname{gcd}\\left(a_{1}, a_{2}, a_{3}, a_{4}, \\ldots \\ldots . . a_{n}\\right)=\\operatorname{gcd}\\left(\\operatorname{gcd}\\left(a_{1}, a_{2}, a_{3}, a_{4}, \\ldots \\ldots . a_{n-1}\\right), a_{n}\\right)$"
   ]
  },
  {
   "cell_type": "code",
   "execution_count": 218,
   "metadata": {},
   "outputs": [
    {
     "name": "stdout",
     "output_type": "stream",
     "text": [
      "2\n",
      "2\n",
      "2\n",
      "12\n",
      "0\n"
     ]
    }
   ],
   "source": [
    "import math\n",
    "a=math.gcd(12,14)\n",
    "b=math.gcd(14,12)\n",
    "c=math.gcd(-12,-14)\n",
    "d=math.gcd(0,12)\n",
    "e=math.gcd(0,0)\n",
    "print(a)\n",
    "print(b)\n",
    "print(c)\n",
    "print(d)\n",
    "print(e)\n"
   ]
  },
  {
   "cell_type": "markdown",
   "metadata": {},
   "source": [
    "<h3>Creating  Function for compute GCD </h3>"
   ]
  },
  {
   "cell_type": "code",
   "execution_count": null,
   "metadata": {},
   "outputs": [],
   "source": [
    "def GCD(a,b):\n",
    "    if a<b:\n",
    "        c=a\n",
    "    else:\n",
    "        c=b\n",
    "            \n",
    "    for i in range(1,c+1):\n",
    "        if(a%i==0 and b%i==0):\n",
    "            gcd=i\n",
    "    return gcd\n",
    "            "
   ]
  },
  {
   "cell_type": "code",
   "execution_count": 232,
   "metadata": {},
   "outputs": [
    {
     "data": {
      "text/plain": [
       "2"
      ]
     },
     "execution_count": 232,
     "metadata": {},
     "output_type": "execute_result"
    }
   ],
   "source": [
    "GCD(12,14)"
   ]
  },
  {
   "cell_type": "markdown",
   "metadata": {},
   "source": [
    "<h3> Definition (Unit Group)</h3>"
   ]
  },
  {
   "cell_type": "markdown",
   "metadata": {},
   "source": [
    "Let $n$ be a natural  number, consider the set $U(n)=\\{x\\in \\mathbb{N};1\\leq x\\leq n,gcd(x,n)=1\\}$ is a group w.r.to $\\times_{n}$ is called Unit group.<br> <br>\n",
    "<b>Note:</b>Number of elements in $U(n)$ is equal to $\\phi(n)$ <br>\n",
    "$$\\phi(n)=n\\bigg(1-\\frac{1}{p_{1}}\\bigg)\\bigg(1-\\frac{1}{p_{2}}\\bigg)\\dots \\bigg(1-\\frac{1}{p_{k}}\\bigg)$$ where $p_{i}'s$ are primes and $n=p_{1}^{\\alpha_{1}}p_{2}^{\\alpha_{2}}\\dots p_{k}^{\\alpha_{k}}$\n"
   ]
  },
  {
   "cell_type": "code",
   "execution_count": null,
   "metadata": {},
   "outputs": [],
   "source": []
  },
  {
   "cell_type": "markdown",
   "metadata": {},
   "source": [
    "<b>Example:</b>List of number which are realtive prime to 9 that is $U(9)=\\{x\\in \\mathbb{N};1\\leq x\\leq 9,gcd(x,9)=1\\}$"
   ]
  },
  {
   "cell_type": "code",
   "execution_count": null,
   "metadata": {},
   "outputs": [],
   "source": []
  },
  {
   "cell_type": "code",
   "execution_count": 233,
   "metadata": {},
   "outputs": [
    {
     "name": "stdout",
     "output_type": "stream",
     "text": [
      "List of the elements in G: [1, 2, 4, 5, 7, 8]\n",
      "Total number numbers which are relative prime to 9 are : 6\n"
     ]
    }
   ],
   "source": [
    "G=[]\n",
    "for i in range(1,9):\n",
    "    if GCD(i,9)==1:\n",
    "        G.append(i)\n",
    "print(\"List of the elements in G:\",G)\n",
    "print(\"Total number numbers which are relative prime to 9 are :\",len(G))                "
   ]
  },
  {
   "cell_type": "code",
   "execution_count": null,
   "metadata": {},
   "outputs": [],
   "source": []
  },
  {
   "cell_type": "markdown",
   "metadata": {},
   "source": [
    "$G=\\{1,2,3,4,5,7,8\\}$ is a forms a group w.r.to $\\times_{9}$ <br>\n",
    "\n",
    "<b> Identity :</b> 1 <br>\n",
    "<b>Inverse</b> <br>\n",
    "$(1)^{-1}=1$ <br>\n",
    "$(2)^{-1}=5$ <br>\n",
    "$(4)^{-1}=7$ <br>\n",
    "$(5)^{-1}=2$ <br>\n",
    "$(7)^{-1}=4$ <br>\n",
    "$(8)^{-1}=8$ <br>"
   ]
  },
  {
   "cell_type": "markdown",
   "metadata": {},
   "source": [
    "<b>Caylay's table for $(U(9),\\times_{9})$</b>"
   ]
  },
  {
   "cell_type": "code",
   "execution_count": 247,
   "metadata": {},
   "outputs": [
    {
     "name": "stdout",
     "output_type": "stream",
     "text": [
      "Calay's Table for (U(9),x9)\n",
      "\n",
      "x9|   1   2   4   5   7   8\n",
      "------------------------------\n",
      "1  |   1   2   4   5   7   8\n",
      "2  |   2   4   8   1   5   7\n",
      "4  |   4   8   7   2   1   5\n",
      "5  |   5   1   2   7   8   4\n",
      "7  |   7   5   1   8   4   2\n",
      "8  |   8   7   5   4   2   1\n"
     ]
    }
   ],
   "source": [
    "print(\"Calay's Table for (U(9),x9)\")\n",
    "print()\n",
    "print(\"x9|\",end='')\n",
    "for j in G:\n",
    "    print(format(j,\"4d\"),end='')\n",
    "print()    \n",
    "print(\"------------------------------\")\n",
    "\n",
    "\n",
    "for i in G:\n",
    "    print(i,\" |\",end='')\n",
    "    for j in G:\n",
    "        a=(i*j)%9\n",
    "        print(format(a,\"4d\"),end='')\n",
    "    print()\n",
    "        "
   ]
  },
  {
   "cell_type": "code",
   "execution_count": null,
   "metadata": {},
   "outputs": [],
   "source": []
  },
  {
   "cell_type": "code",
   "execution_count": 133,
   "metadata": {},
   "outputs": [],
   "source": [
    "def Sum(a,b):\n",
    "    Sum=(a+b)%5\n",
    "    return Sum  "
   ]
  },
  {
   "cell_type": "code",
   "execution_count": 359,
   "metadata": {},
   "outputs": [],
   "source": [
    "def is_associative(G):\n",
    "    for a in G:\n",
    "        for b in G:\n",
    "            ab=Sum(a,b)\n",
    "            for c in G:\n",
    "                bc=Sum(b,c)\n",
    "                ab_c=Sum(ab,c)\n",
    "                a_bc=Sum(a,bc)\n",
    "                if(ab_c!=a_bc):\n",
    "                    return 0\n",
    "                return 1\n",
    "        "
   ]
  },
  {
   "cell_type": "code",
   "execution_count": 360,
   "metadata": {},
   "outputs": [
    {
     "data": {
      "text/plain": [
       "1"
      ]
     },
     "execution_count": 360,
     "metadata": {},
     "output_type": "execute_result"
    }
   ],
   "source": [
    " G=[1,2,3,4,5]\n",
    "is_associative(G) "
   ]
  },
  {
   "cell_type": "code",
   "execution_count": 357,
   "metadata": {},
   "outputs": [
    {
     "data": {
      "text/plain": [
       "3"
      ]
     },
     "execution_count": 357,
     "metadata": {},
     "output_type": "execute_result"
    }
   ],
   "source": [
    "Sum(1,2)"
   ]
  },
  {
   "cell_type": "code",
   "execution_count": 356,
   "metadata": {},
   "outputs": [
    {
     "data": {
      "text/plain": [
       "5"
      ]
     },
     "execution_count": 356,
     "metadata": {},
     "output_type": "execute_result"
    }
   ],
   "source": [
    "Sum(2,3)"
   ]
  },
  {
   "cell_type": "code",
   "execution_count": 355,
   "metadata": {},
   "outputs": [
    {
     "data": {
      "text/plain": [
       "12"
      ]
     },
     "execution_count": 355,
     "metadata": {},
     "output_type": "execute_result"
    }
   ],
   "source": [
    "Sum(5,7)"
   ]
  },
  {
   "cell_type": "code",
   "execution_count": 354,
   "metadata": {},
   "outputs": [
    {
     "data": {
      "text/plain": [
       "54"
      ]
     },
     "execution_count": 354,
     "metadata": {},
     "output_type": "execute_result"
    }
   ],
   "source": [
    "Sum(20,34)"
   ]
  },
  {
   "cell_type": "code",
   "execution_count": 321,
   "metadata": {},
   "outputs": [
    {
     "data": {
      "text/plain": [
       "5"
      ]
     },
     "execution_count": 321,
     "metadata": {},
     "output_type": "execute_result"
    }
   ],
   "source": [
    "2+3"
   ]
  },
  {
   "cell_type": "code",
   "execution_count": 339,
   "metadata": {},
   "outputs": [
    {
     "data": {
      "text/plain": [
       "0"
      ]
     },
     "execution_count": 339,
     "metadata": {},
     "output_type": "execute_result"
    }
   ],
   "source": [
    "G=[20,21,22,23,24]\n",
    "is_associative(G)"
   ]
  },
  {
   "cell_type": "code",
   "execution_count": 340,
   "metadata": {},
   "outputs": [
    {
     "data": {
      "text/plain": [
       "0"
      ]
     },
     "execution_count": 340,
     "metadata": {},
     "output_type": "execute_result"
    }
   ],
   "source": [
    "G=[1,2,3,4,5]\n",
    "is_associative(G)"
   ]
  },
  {
   "cell_type": "code",
   "execution_count": 363,
   "metadata": {},
   "outputs": [],
   "source": [
    "def is_Associative(G):\n",
    "    for a in G:\n",
    "        for b in G:\n",
    "            ab=a+b\n",
    "            for c in G:\n",
    "                bc=b+c\n",
    "                ab_c=ab+c\n",
    "                a_bc=a+bc\n",
    "                if(ab_c!=a_bc):\n",
    "                    return 0\n",
    "                return 1\n",
    "        "
   ]
  },
  {
   "cell_type": "code",
   "execution_count": 362,
   "metadata": {},
   "outputs": [
    {
     "data": {
      "text/plain": [
       "1"
      ]
     },
     "execution_count": 362,
     "metadata": {},
     "output_type": "execute_result"
    }
   ],
   "source": [
    "G=[1,2,3,4,5]\n",
    "is_Associative(G)"
   ]
  },
  {
   "cell_type": "code",
   "execution_count": 353,
   "metadata": {},
   "outputs": [
    {
     "data": {
      "text/plain": [
       "3"
      ]
     },
     "execution_count": 353,
     "metadata": {},
     "output_type": "execute_result"
    }
   ],
   "source": [
    "Sum(1,2)"
   ]
  },
  {
   "cell_type": "code",
   "execution_count": 123,
   "metadata": {},
   "outputs": [],
   "source": [
    "def is_closure(G):\n",
    "    for a in G:\n",
    "        for b in G:\n",
    "            ab=(a+b)\n",
    "            if ab not in G:\n",
    "                return 0\n",
    "    return 1\n",
    "                                "
   ]
  },
  {
   "cell_type": "code",
   "execution_count": 124,
   "metadata": {},
   "outputs": [
    {
     "data": {
      "text/plain": [
       "0"
      ]
     },
     "execution_count": 124,
     "metadata": {},
     "output_type": "execute_result"
    }
   ],
   "source": [
    "G=[0,1,2,3,4]\n",
    "is_closure(G)"
   ]
  },
  {
   "cell_type": "code",
   "execution_count": 109,
   "metadata": {},
   "outputs": [
    {
     "data": {
      "text/plain": [
       "1"
      ]
     },
     "execution_count": 109,
     "metadata": {},
     "output_type": "execute_result"
    }
   ],
   "source": [
    "G=[0,2,3,4,5]\n",
    "is_closure(G)"
   ]
  },
  {
   "cell_type": "code",
   "execution_count": 108,
   "metadata": {},
   "outputs": [
    {
     "data": {
      "text/plain": [
       "0"
      ]
     },
     "execution_count": 108,
     "metadata": {},
     "output_type": "execute_result"
    }
   ],
   "source": [
    "G=[3,4]\n",
    "is_closure(G) "
   ]
  },
  {
   "cell_type": "code",
   "execution_count": 111,
   "metadata": {},
   "outputs": [
    {
     "data": {
      "text/plain": [
       "0"
      ]
     },
     "execution_count": 111,
     "metadata": {},
     "output_type": "execute_result"
    }
   ],
   "source": [
    "G=[-1,2,3,4,6]\n",
    "is_closure(G)"
   ]
  },
  {
   "cell_type": "code",
   "execution_count": 112,
   "metadata": {},
   "outputs": [
    {
     "data": {
      "text/plain": [
       "1"
      ]
     },
     "execution_count": 112,
     "metadata": {},
     "output_type": "execute_result"
    }
   ],
   "source": [
    "G=[0,1,2,3,4]\n",
    "is_closure(G)"
   ]
  },
  {
   "cell_type": "code",
   "execution_count": null,
   "metadata": {},
   "outputs": [],
   "source": [
    "i=0\n",
    "def is_identity(G):\n",
    "    for a in G:\n",
    "        while i<len(G):\n",
    "            if Sum(a,G[i])!=a:\n",
    "                return 0\n",
    "            \n",
    "    return 1  "
   ]
  },
  {
   "cell_type": "code",
   "execution_count": null,
   "metadata": {},
   "outputs": [],
   "source": [
    "G=[0,2,3,4,5]\n",
    "is_identity(G)"
   ]
  },
  {
   "cell_type": "code",
   "execution_count": null,
   "metadata": {},
   "outputs": [],
   "source": [
    "A=[]\n",
    "B=[]\n",
    "def is_commutative(G):\n",
    "    for a in G:\n",
    "        for b in G:\n",
    "            ab=Sum(a,b)\n",
    "            ba=Sum(b,a)\n",
    "            A.append(ab)\n",
    "            B.append(ba)\n",
    "    if A==B:\n",
    "        return 1\n",
    "    return 0"
   ]
  },
  {
   "cell_type": "code",
   "execution_count": 52,
   "metadata": {},
   "outputs": [
    {
     "data": {
      "text/plain": [
       "0"
      ]
     },
     "execution_count": 52,
     "metadata": {},
     "output_type": "execute_result"
    }
   ],
   "source": [
    "A=[]\n",
    "B=[]\n",
    "G=[0,1,2,3,4,5]\n",
    "is_commutative(G)"
   ]
  },
  {
   "cell_type": "code",
   "execution_count": 8,
   "metadata": {},
   "outputs": [],
   "source": [
    "def is_inverse(G):\n",
    "    for a in G:\n",
    "        while"
   ]
  },
  {
   "cell_type": "code",
   "execution_count": 26,
   "metadata": {},
   "outputs": [
    {
     "name": "stdout",
     "output_type": "stream",
     "text": [
      "Lists are not equal\n"
     ]
    }
   ],
   "source": [
    "first_list = [-10, 11, 12, 13, 14, 15, 16]\n",
    "sec_list = [10, 11, 12, 13, 14, 15, 16]\n",
    "if first_list == sec_list:\n",
    "    print('Lists are exactly equal')\n",
    "else:\n",
    "    print('Lists are not equal')"
   ]
  },
  {
   "cell_type": "code",
   "execution_count": 129,
   "metadata": {},
   "outputs": [],
   "source": [
    "def is_Identity(G):\n",
    "    for a in G:\n",
    "        for b in G:\n",
    "            if Sum(a,b)==a and Sum(b,a)==a:\n",
    "                return 1\n",
    "    return 0"
   ]
  },
  {
   "cell_type": "code",
   "execution_count": 132,
   "metadata": {},
   "outputs": [
    {
     "data": {
      "text/plain": [
       "1"
      ]
     },
     "execution_count": 132,
     "metadata": {},
     "output_type": "execute_result"
    }
   ],
   "source": [
    "G=[0,1,2,3]\n",
    "is_Identity(G)"
   ]
  },
  {
   "cell_type": "code",
   "execution_count": null,
   "metadata": {},
   "outputs": [],
   "source": []
  }
 ],
 "metadata": {
  "kernelspec": {
   "display_name": "Python 3",
   "language": "python",
   "name": "python3"
  },
  "toc": {
   "base_numbering": 1,
   "nav_menu": {},
   "number_sections": true,
   "sideBar": true,
   "skip_h1_title": false,
   "title_cell": "Table of Contents",
   "title_sidebar": "Contents",
   "toc_cell": true,
   "toc_position": {},
   "toc_section_display": true,
   "toc_window_display": false
  }
 },
 "nbformat": 4,
 "nbformat_minor": 4
}
